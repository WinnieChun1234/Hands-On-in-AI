{
  "nbformat": 4,
  "nbformat_minor": 0,
  "metadata": {
    "colab": {
      "name": "Checkpoint_Deep_RL.ipynb",
      "provenance": [],
      "collapsed_sections": []
    },
    "kernelspec": {
      "name": "python3",
      "display_name": "Python 3"
    },
    "accelerator": "TPU"
  },
  "cells": [
    {
      "cell_type": "markdown",
      "metadata": {
        "id": "lfwvTwJR9PFG"
      },
      "source": [
        "### COMP3359 Artificial Intelligence Applications  \n",
        "Department of Computer Science, HKU \n",
        "<br><br>\n",
        "# <u>Checkpoint 5: Deep Reinforcement Learning</u>\n",
        "\n",
        "## Estimated Time to Finish \n",
        "6~10 hours (excluding optional materials)\n",
        "\n",
        "## Main Learning Objectives\n",
        "- To recognize the use of Neural Network (Deep Q Network) with the purpose of Function Approximation in Deep Q Learning approach.\n",
        "- To recognize other enhancements of Deep Q Learning from traditional Q Learning, i.e., Experience Replay\n",
        "- To have experience of implementing Deep Q Learning algorithm to handle an application with continuous state space.\n",
        "\n",
        "## Overview\n",
        "1. [Introduction](#s1) \n",
        "2. [Problem Setting](#s2) \n",
        "3. [Deep Q Learning](#s3) \n",
        "4. [Task – Implement Deep Q-Learning Model](#s4) \n",
        "5. [Submission](#s5) \n",
        "\n",
        "\n",
        "----- \n"
      ]
    },
    {
      "cell_type": "markdown",
      "metadata": {
        "id": "F6HhcL89U2pc"
      },
      "source": [
        "<a id=’s1’></a>\n",
        "\n",
        "# 1 Introduction\n",
        "\n",
        "Previously, in the main tutorial of Module 5, we have studied the use of Q Learning in learning to navigate a taxi to pick up/drop off passengers. However, the problem is quite simple that there are only 500 states in the entire state space. Therefore, it is reasonable for you to wonder if the same Q Learning method would be able to solve more complicated problems, e.g., playing video games.\n",
        "\n",
        "Unfortunately, although there are more advanced RL algorithms to play video games, it may be difficult for us to understand those algorithms if we immediately jump to there from Q Learning. As an intermediate step, this notebook introduces an example of the “Mountain Car” problem, which involves a state space with continuous state values, which already increases the difficulty of the problem when compared to the self-driving taxi problem.\n",
        "\n",
        "This notebook introduces an enhancement of Q Learning, namely Deep Q Learning, in which a (deep) neural network called Deep Q Network is used to replace Q Table to improve its learning performance to handle more sophisticated problems.\n",
        "\n",
        "After completion of the tasks in this notebook, you would have gained the experience of implementing the Deep Q Learning algorithm, while appreciating the enhancement of RL algorithms with deep neural networks to handle more complicated applications. \n",
        "\n",
        "----- "
      ]
    },
    {
      "cell_type": "markdown",
      "metadata": {
        "id": "kw2uh8h-9OxC"
      },
      "source": [
        "<a id=’s2’></a>\n",
        "# 2 Problem Setting \n",
        "\n"
      ]
    },
    {
      "cell_type": "markdown",
      "metadata": {
        "id": "WkQPJN6h9V20"
      },
      "source": [
        "## Environment – Mountain Car \n",
        "\n",
        "In this study, we will consider the [“Mountain Car”]( https://gym.openai.com/envs/MountainCar-v0/) environment from OpenAI Gym. According to the description from OpenAI Gym:\n",
        "\n",
        "> A car is on a one-dimensional track, positioned between two \"mountains\". The goal is to drive up the mountain on the right; however, the car's engine is not strong enough to scale the mountain in a single pass. Therefore, the only way to succeed is to drive back and forth to build up momentum.\n",
        "\n",
        "<center><img src='./figures/mountaincar.jpg' width='50%'/></center>\n",
        "\n",
        "In this environment, the state is described by 2 values and 3 possible actions:\n",
        "\n",
        "| Index | State | Min | Max |\n",
        "|--------|-------|-------|-------|\n",
        "| 0 | Car position <br> along x-direction | -1.2 | 0.6 |\n",
        "| 1 | Car velocity | -0.07 | 0.07 |\n",
        "\n",
        "<center>State space in “Mountain Car” environment</center>\n",
        "\n",
        "| Index | Action |\n",
        "|--------|--------|\n",
        "| 0 | Push left |\n",
        "| 1 | No push |\n",
        "| 2 | Push right |\n",
        "\n",
        "<center>Action space in “Mountain Car” environment</center>\n",
        "<center>From: https://medium.com/@ts1829/solving-mountain-car-with-q-learning-b77bf71b1de2</center>\n",
        "\n",
        "It is noteworthy that the state space of “Mountain Car” environment is a continuous state space, that each of the states is a real value within a continuous interval. Comparing with the “self-driving taxi” environment we have studied before, which has a finite discrete state space with just 500 states, the “Mountain Car” problem is comparable more difficult. If we only use Q Learning as we have attempted before, one probable problem is to describe the continuous state-action space with a discrete Q Table. "
      ]
    },
    {
      "cell_type": "markdown",
      "metadata": {
        "id": "aG0tp0kL95e9"
      },
      "source": [
        "## Approach – Deep Q Learning\n",
        "\n",
        "Here, we consider the method of __Deep Q Learning (DQL)__, an enhancement of Q Learning using (deep) neural network, which the network used is usually referred as __Deep Q Network (DQN)__. This checkpoint will guide you to build a DQN model to handle the “Mountain Car” problem.\n",
        "\n",
        "As aforementioned, the “Mountain Car” environment is provided by OpenAI Gym. Meanwhile, to construct our DQN model, we will use PyTorch in this notebook, but in general other frameworks supporting construction of neural networks are also suitable for this task.\n",
        "\n",
        "----- "
      ]
    },
    {
      "cell_type": "markdown",
      "metadata": {
        "id": "AmRcHGtm97No"
      },
      "source": [
        "<a id=’s3’></a>\n",
        "# 3 Deep Q Learning \n"
      ]
    },
    {
      "cell_type": "markdown",
      "metadata": {
        "id": "0AEy6qg69-9L"
      },
      "source": [
        "## Previously on Q Learning\n",
        "\n",
        "Before we start studying DQL, let’s have a revision on (traditional) Q Learning:\n",
        "\n",
        "- What Q-Learning agent learns is the expected cumulative rewards table - __Q-table__\n",
        "- Q-value of state-action pair $Q(s,a)$:\n",
        "    - __expected cumulative rewards__ of taking action $a$ at state $s$     \n",
        "    (usually, expected cumulative rewards = immediate rewards + future rewards)\n",
        "- Training of Q-Learning model:\n",
        "    1. Initialize Q-Table (all 0’s, random values, or else)\n",
        "    2. The learning agent start at the initial state $s_0$ (start of episode)\n",
        "    3. At each current state $s$, the learning agent decides to take action $a$, based on a random choice (exploration) or some Q-values ${\\rm argmax}_a(Q(s,a))$ (exploitation) \n",
        "    4. Update Q-value: $Q(s,a) \\leftarrow Q(s,a) + \\alpha (r + \\gamma \\max_{a'}(Q(s',a'))-Q(s,a))$, where $r$ is the reward received when moving from the current state to the next state.\n",
        "    5. The terminal state $s_t$ is reached (end of episode)\n",
        "    6. Repeat steps 2-5 (for a specific number of episodes, until model converges, or else)\n",
        "- After training:\n",
        "     - After iterations of updating Q-values with the update rule above, the trained Q-values will then estimate the expected cumulative rewards, as in:    \n",
        "     $Q(s,a) = r + \\gamma \\max_{a'}(Q(s',a'))$\n"
      ]
    },
    {
      "cell_type": "markdown",
      "metadata": {
        "id": "ZM37Xqer-6bB"
      },
      "source": [
        "## Deep Q-Learning\n",
        "\n",
        "<u>Deep Q Network</u>\n",
        "\n",
        "Recall that, in (traditional) Q Learning, the objective of training is to train Q values to accurately estimate the expected cumulative rewards of state-action pairs, so that in the equation of Q Learning,     \n",
        "\n",
        "<center>$Q(s,a) = r + \\gamma \\max_{a'}(Q(s',a'))$,</center>    \n",
        "\n",
        "left-hand side (LHS) and right-hand side (RHS) of the equation will have similar values. However, the use of discrete Q Table to represent the expected cumulative rewards may not be the most effective, especially when the state-action space is of high complexity.\n",
        "\n",
        "In DQL, $Q(s,a)$ is considered as a function, where the input of the function is a state-action pair, and the output is the corresponding expected cumulative rewards. Usually, we consider the function to have continuous input domain, so that we can handle continuous state space. \n",
        "\n",
        "By considering $Q(s,a)$ as a function, we can then train a neural network, a.k.a. __Deep Q Network (DQN)__, to predict the values of $Q(s,a)$. To train such a DQN network, network weights are trained according to the temporal difference error $\\delta$:\n",
        "\n",
        "<center>$\\delta = Q(s,a) - (r + \\gamma \\max_{a'}(Q(s',a')))$ .</center>\n",
        "\n",
        "Therefore, by minimizing the temporal difference error $\\delta$, the difference between LHS $𝑄(𝑠,𝑎)$ (predicted Q values) and RHS $𝑟 + \\gamma\\max_{a'}(𝑄(𝑠’,𝑎’))$ (target Q values) of the Q Learning equation is also minimized. Consequently, the DQN will also give an accurate approximation of the expected cumulative rewards.  \n",
        "\n",
        "Note: This is an example usage of ML methods for __Function Approximation__. Here, given inputs (state-action) and outputs (rewards from the environment), we train a neural network to approximate the underlying mapping function (assuming there is one). In this case, we are trying to replace the Q Table in traditional Q Learning with a deep neural network DQN.\n",
        "\n",
        "<u>Policy/Target Deep Q Networks</u>\n",
        "\n",
        "Although our objective here is to approximate the Q Table with some deep neural network DQN, usually two neural networks are used during training instead of only one. The two DQNs involved are known as the Policy and Target networks.  \n",
        "\n",
        "As aforementioned, DQNs are trained by minimizing the temporal difference error $\\delta$:\n",
        "\n",
        "<center>$\\delta = Q(s,a) - (r + \\gamma \\max_{a'}(Q(s',a')))$ .</center>\n",
        "\n",
        "Here, if only one DQN is used, then this DQN will be used for predicting two types of Q values at the same time: 1) Q values of current state and action $Q(s,a)$, and 2) Q values of next state and the possible actions $Q(s',a')$, as in the target Q value $(r + \\gamma \\max_{a'}(Q(s',a')))$.\n",
        "\n",
        "It is noteworthy that during training the network weights of the DQN keep changing, so as the two predicted Q values. Even if we adjust the network weights in a way that makes $Q(s,a)$ closer to the target Q value $(r + \\gamma \\max_{a'}(Q(s',a')))$ at this moment, after we update the network weights according to the temporal difference error $\\delta$, next time $Q(s,a)$ has to chase after a different target Q value. This makes it harder for the DQN to converge. \n",
        "\n",
        "Therefore, two DQNs called Policy network and Target network are used instead:\n",
        "\n",
        "- Policy network: \n",
        "    - Used for predicting $Q(s,a)$, to determine action based on current state\n",
        "    - Updated at every step of training\n",
        "- Target network: \n",
        "    - Used for predicting the target Q value $(r + \\gamma \\max_{a'}(Q(s',a')))$\n",
        "    - Only updated once in a while, by copying weights of the Policy network at the moment\n",
        "\n",
        "Therefore, in between two updates of the Target network, the target Q value is fixed so the Policy Network will have a clearer target. This helps stabilize training and fosters convergence of the Policy network. \n",
        "\n",
        "<u>Experience Replay</u>\n",
        "\n",
        "Recall that, in (traditional) Q Learning we have studied before, whenever an action is taken, the rewards received are used to update the Q values. In DQL, network weights of the DQN are updated in a different way.\n",
        "\n",
        "DQL adopts the __Experience Replay__ approach. At each step, based on the state $𝑠$, action $𝑎$ is taken, reward $𝑟$ is received and the next state $𝑠’$ is observed. Usually, we call (state, action, reward, next_state) = $(s,a,r,s')$ as a transition. After recording this transition, instead of immediately using it to update DQN network weights, we first save the transition in a memory buffer. Later, training of DQN network is performed in a minibatch training fashion, that we (randomly) sample a batch of transitions from the memory buffer. Then, this batch of transitions is fed to DQN to train the network weights.\n",
        "\n",
        "There are several advantages of adopting the Experience Replay approach to update DQN network weights. However, they will not be discussed in this study (you may check the materials suggested in “Recommended Materials (Optional)”). To quickly summarize the advantages, Experience Replay enables more stable training of our neural network model DQN.\n",
        "\n",
        "<u>Algorithm of Deep Q Learning</u>\n",
        "\n",
        "To sum up, the algorithm of DQL is provided in this sub-section. This may help us to construct the DQN model for the “Mountain Car” problem in upcoming sections.\n",
        "\n",
        "1. Initialize:\n",
        "    - (Deep Q-Learning) Policy DQN (to predict $Q(s,a)$)\n",
        "    - (Deep Q-Learning) Target DQN (to predict $Q(s’,a’)$), by copying initial Policy Network\n",
        "    - (Experience Replay) Memory buffer to store transitions (state, action, rewards, next state)=$(s,a,r,s')$ \n",
        "    \n",
        "2. For each episode:\n",
        "    1. (Game Starts) Initialize environment, get initial state\n",
        "    2. For each step in the episode:\n",
        "        1. (Epsilon-Greedy) Select action, by:\n",
        "            1. (Exploration) With prob. $\\epsilon$:\n",
        "                1. Take random action\n",
        "            2. (Exploitation) Otherwise (with prob. $1-\\epsilon$):\n",
        "                1. ($Q(s,a)$ for all $a$) Predict Q-values of current state (for all actions) using Policy DQN\n",
        "                2. (${\\rm argmax}_a( Q(s,a) )$ Pick action with maximum predicted Q-value\n",
        "        2. Take action $a$, get rewards $r$, update environment, get next state $s'$\n",
        "        3. (Experience Replay) Store current transition: $(s,a,r,s')$\n",
        "        4. (Experience Replay) Train Policy DQN with __a batch of transitions in memory__, by:\n",
        "            1. For each transition $(s, a, r, s’)$ in the batch:\n",
        "                1. ($Q(s,a)$) Predict __Q-value of current state-action__ using Policy DQN\n",
        "                2. ($Q(s’,a’)$ for all $a’$) Predict __Q-values of next state__  using Target DQN\n",
        "                3. Compute the __target Q-value__\n",
        "                    1. If next state $s’$ is a terminal state, target Q-value = 0\n",
        "                    2. Otherwise, target Q-value = $r + \\gamma \\max_{a'}(Q(s',a'))$\n",
        "                 4. ($Q(s,a) = r + \\gamma \\max_{a'}(Q(s',a'))$) Compute ```loss = difference between predicted Q-value (LHS) and target Q-value (RHS)```\n",
        "            2. Update Policy DQN network weights according to the losses\n",
        "        5. Once in every, say, N steps throughout the training, update Target DQN by copying network weights of Policy DQN\n",
        "        6. If terminal state is reached:\n",
        "            1. (Game Over) End of episode\n",
        "        7. Otherwise:\n",
        "            1. Continue to the next step\n",
        "\n",
        "\n"
      ]
    },
    {
      "cell_type": "markdown",
      "metadata": {
        "id": "SqVl8Fyc_bAI"
      },
      "source": [
        "## Recommended Materials (Optional)\n",
        "\n",
        "<u>Deep Q Learning</u>\n",
        "- [RL — DQN Deep Q-network]( https://medium.com/@jonathan_hui/rl-dqn-deep-q-network-e207751f7ae4)\n",
        "- [Guest Post: Demystifying Deep Reinforcement Learning](https://www.intel.com/content/www/us/en/artificial-intelligence/posts/demystifying-deep-reinforcement-learning.html)\n",
        "- [Qrash Course: Reinforcement Learning 101 & Deep Q Networks in 10 Minutes]( https://towardsdatascience.com/qrash-course-deep-q-networks-from-the-ground-up-1bbda41d3677)\n",
        "\n",
        "<u>Policy and Target DQNs</u>\n",
        "- [Why does DQN require two different networks?](https://ai.stackexchange.com/questions/6982/why-does-dqn-require-two-different-networks)\n",
        "- [Q-targets, Double DQN and Dueling DQN (Taking Deep Q Networks a step further)](https://theaisummer.com/Taking_Deep_Q_Networks_a_step_further/)\n",
        "    - Discusses the topic of Policy/Target DQNs in section \"Moving Q-Targets\"\n",
        "    - Also includes discussions about other enhancements of DQNs\n",
        "- [Simple Reinforcement Learning with Tensorflow Part 4: Deep Q-Networks and Beyond](https://medium.com/@awjuliani/simple-reinforcement-learning-with-tensorflow-part-4-deep-q-networks-and-beyond-8438a3e2b8df)\n",
        "    - Discusses the topic of Policy/Target DQNs in section \"Addition 3: Separate Target Network\"\n",
        "    - Also includes discussions about other enhancements of DQNs\n",
        "    \n",
        "\n",
        "----- "
      ]
    },
    {
      "cell_type": "markdown",
      "metadata": {
        "id": "nwn1dGcr9Ome"
      },
      "source": [
        "<a id=’s4’></a>\n",
        "# 4 Task – Implement Deep Q-Learning Model\n",
        "\n",
        "This section will guide you to construct a DQN model for the Mountain Car problem. In the subsequent sub-sections, we will try to implement the key components of the DQN model, with explanation to their functionalities provided. However, for some of the components, the codes to implement them are not completed. Your task in this checkpoint is to complete the missing parts by following the instructions provided. The completed components by you should pass the corresponding test cases. \n",
        "\n",
        "After completing all the missing parts, you should be able to train a DQN model which will be able to drive the car from the bottom of valley up to the top of the mountain.\n",
        "\n",
        "<u>Code References</u>:\n",
        "\n",
        "The following codes are developed while referencing the following materials:\n",
        "- [Getting Started with Reinforcement Learning and Open AI Gym]( https://towardsdatascience.com/getting-started-with-reinforcement-learning-and-open-ai-gym-c289aca874f)\n",
        "- [REINFORCEMENT LEARNING (DQN) TUTORIAL | PyTorch]( https://pytorch.org/tutorials/intermediate/reinforcement_q_learning.html)\n"
      ]
    },
    {
      "cell_type": "markdown",
      "metadata": {
        "id": "AAtvxxNoAtof"
      },
      "source": [
        "## Before You Start\n",
        "\n",
        "\n"
      ]
    },
    {
      "cell_type": "markdown",
      "metadata": {
        "id": "iZ9jvPqxD3x3"
      },
      "source": [
        "<u>Google Colab</u>\n",
        "\n",
        "If you would like to run this notebook on Google Colab with GPU runtime, you may set it at:\n",
        "\n",
        "Toolbar > Runtime > Change runtime type > Hardware accelerator > GPU\n",
        "\n",
        "<u>Game Screen Display on Server</u>\n",
        "\n",
        "By default, when one tries to get the game screen of the current state of the environment using ```env.render(…)```, OpenAI Gym needs a window to display the image. However, if you run the codes on devices hosted on a server, e.g., Google Colab, there is no window/screen to display the image, causing errors while running the codes. \n",
        "\n",
        "In order to get the game screen and display it in a notebook running on a hosted device, you will need to install the package ```Xvfb``` using the following codes. Then, prepare a virtual display at the very beginning, so that later when ```env.render(…)``` is executed, the game screen can be captured and displayed in the notebook. \n",
        "\n",
        "\n",
        "Note 1: This method may not be applicable to HKU CS GPU Farm, due to the lack of authority to install ```Xvfb``` on the hosted device.\n",
        "\n",
        "Note 2: Even if the packages are properly installed in the previous code cell, you may still receive the following message:\n",
        "\n",
        "```xdpyinfo was not found, X start can not be checked! Please install xdpyinfo!\"```. \n",
        "\n",
        "The subsequent codes can still be executed without errors, so you may kindly ignore this message and proceed.\n",
        "\n"
      ]
    },
    {
      "cell_type": "code",
      "metadata": {
        "id": "daB4c7Qn-KrL",
        "colab": {
          "base_uri": "https://localhost:8080/"
        },
        "outputId": "a0d5679a-97e3-4e37-ebd5-3da8b4dc4e98"
      },
      "source": [
        "\"\"\" Preparation for Display on Server \"\"\"\n",
        "!apt-get install -y xvfb \n",
        "!pip install pyvirtualdisplay piglet"
      ],
      "execution_count": 1,
      "outputs": [
        {
          "output_type": "stream",
          "text": [
            "Reading package lists... Done\n",
            "Building dependency tree       \n",
            "Reading state information... Done\n",
            "The following NEW packages will be installed:\n",
            "  xvfb\n",
            "0 upgraded, 1 newly installed, 0 to remove and 30 not upgraded.\n",
            "Need to get 784 kB of archives.\n",
            "After this operation, 2,270 kB of additional disk space will be used.\n",
            "Get:1 http://archive.ubuntu.com/ubuntu bionic-updates/universe amd64 xvfb amd64 2:1.19.6-1ubuntu4.8 [784 kB]\n",
            "Fetched 784 kB in 1s (874 kB/s)\n",
            "Selecting previously unselected package xvfb.\n",
            "(Reading database ... 160980 files and directories currently installed.)\n",
            "Preparing to unpack .../xvfb_2%3a1.19.6-1ubuntu4.8_amd64.deb ...\n",
            "Unpacking xvfb (2:1.19.6-1ubuntu4.8) ...\n",
            "Setting up xvfb (2:1.19.6-1ubuntu4.8) ...\n",
            "Processing triggers for man-db (2.8.3-2ubuntu0.1) ...\n",
            "Collecting pyvirtualdisplay\n",
            "  Downloading https://files.pythonhosted.org/packages/19/88/7a198a5ee3baa3d547f5a49574cd8c3913b216f5276b690b028f89ffb325/PyVirtualDisplay-2.1-py3-none-any.whl\n",
            "Collecting piglet\n",
            "  Downloading https://files.pythonhosted.org/packages/11/56/6840e5f45626dc7eb7cd5dff57d11880b3113723b3b7b1fb1fa537855b75/piglet-1.0.0-py2.py3-none-any.whl\n",
            "Collecting EasyProcess\n",
            "  Downloading https://files.pythonhosted.org/packages/48/3c/75573613641c90c6d094059ac28adb748560d99bd27ee6f80cce398f404e/EasyProcess-0.3-py2.py3-none-any.whl\n",
            "Collecting piglet-templates\n",
            "\u001b[?25l  Downloading https://files.pythonhosted.org/packages/34/1e/49d7e0df9420eeb13a636487b8e606cf099f2ee0793159edd8ffe905125b/piglet_templates-1.1.0-py3-none-any.whl (63kB)\n",
            "\u001b[K     |████████████████████████████████| 71kB 3.5MB/s \n",
            "\u001b[?25hRequirement already satisfied: attrs in /usr/local/lib/python3.7/dist-packages (from piglet-templates->piglet) (20.3.0)\n",
            "Requirement already satisfied: astunparse in /usr/local/lib/python3.7/dist-packages (from piglet-templates->piglet) (1.6.3)\n",
            "Collecting Parsley\n",
            "\u001b[?25l  Downloading https://files.pythonhosted.org/packages/2b/d6/4fed8d65e28a970e1c5cb33ce9c7e22e3de745e1b2ae37af051ef16aea3b/Parsley-1.3-py2.py3-none-any.whl (88kB)\n",
            "\u001b[K     |████████████████████████████████| 92kB 4.3MB/s \n",
            "\u001b[?25hRequirement already satisfied: markupsafe in /usr/local/lib/python3.7/dist-packages (from piglet-templates->piglet) (1.1.1)\n",
            "Requirement already satisfied: six<2.0,>=1.6.1 in /usr/local/lib/python3.7/dist-packages (from astunparse->piglet-templates->piglet) (1.15.0)\n",
            "Requirement already satisfied: wheel<1.0,>=0.23.0 in /usr/local/lib/python3.7/dist-packages (from astunparse->piglet-templates->piglet) (0.36.2)\n",
            "Installing collected packages: EasyProcess, pyvirtualdisplay, Parsley, piglet-templates, piglet\n",
            "Successfully installed EasyProcess-0.3 Parsley-1.3 piglet-1.0.0 piglet-templates-1.1.0 pyvirtualdisplay-2.1\n"
          ],
          "name": "stdout"
        }
      ]
    },
    {
      "cell_type": "code",
      "metadata": {
        "id": "G9Kh3Jgj-O20",
        "colab": {
          "base_uri": "https://localhost:8080/"
        },
        "outputId": "ade9ad86-a4f1-498a-f55b-b4bc76bfbaf6"
      },
      "source": [
        "# To display game screen in this notebook on a server,\n",
        "# execute these first to prepare a virtual display.\n",
        "\n",
        "# Even if the packages are properly installed in the previous code cell, \n",
        "# you may still receive the following message:\n",
        "#    \"xdpyinfo was not found, X start can not be checked! Please install xdpyinfo!\"\n",
        "# The subsequent codes can still be executed without errors, so you may kindly\n",
        "# ignore this message and proceed.\n",
        "\n",
        "from pyvirtualdisplay import Display\n",
        "display = Display(visible=0, size=(1400, 900))\n",
        "display.start()"
      ],
      "execution_count": 2,
      "outputs": [
        {
          "output_type": "execute_result",
          "data": {
            "text/plain": [
              "<pyvirtualdisplay.display.Display at 0x7f63526a6990>"
            ]
          },
          "metadata": {
            "tags": []
          },
          "execution_count": 2
        }
      ]
    },
    {
      "cell_type": "markdown",
      "metadata": {
        "id": "UwRJa7QdE18N"
      },
      "source": [
        "<u>HKU CS GPU Farm</u>\n",
        "\n",
        "It is __not suggested__ to run this notebook on HKU CS GPU Farm. The method mentioned above may not be applicable to HKU CS GPU Farm, due to the lack of authority to install Xvfb on the hosted device. Since the function ```env.render(...)``` is used to get the environment state throughout this notebook, the codes may result in error on GPU Farm.\n",
        "\n",
        "\n",
        "<u>Prerequisite Libraries</u>"
      ]
    },
    {
      "cell_type": "code",
      "metadata": {
        "id": "Y1KBf6mNA27T",
        "colab": {
          "base_uri": "https://localhost:8080/"
        },
        "outputId": "0dbd67ad-237f-4907-bab2-a20828aa40b3"
      },
      "source": [
        "\"\"\" Install Prerequisite Libraries \"\"\"\n",
        "!pip3 install gym==0.17.1\n",
        "!pip3 install torch==1.4.0"
      ],
      "execution_count": 3,
      "outputs": [
        {
          "output_type": "stream",
          "text": [
            "Collecting gym==0.17.1\n",
            "\u001b[?25l  Downloading https://files.pythonhosted.org/packages/77/48/c43b8a72b916cc70896aa431b0fc00d1481ae34e28dc55e2144f4c77916b/gym-0.17.1.tar.gz (1.6MB)\n",
            "\u001b[K     |████████████████████████████████| 1.6MB 6.6MB/s \n",
            "\u001b[?25hRequirement already satisfied: scipy in /usr/local/lib/python3.7/dist-packages (from gym==0.17.1) (1.4.1)\n",
            "Requirement already satisfied: numpy>=1.10.4 in /usr/local/lib/python3.7/dist-packages (from gym==0.17.1) (1.19.5)\n",
            "Requirement already satisfied: six in /usr/local/lib/python3.7/dist-packages (from gym==0.17.1) (1.15.0)\n",
            "Requirement already satisfied: pyglet<=1.5.0,>=1.4.0 in /usr/local/lib/python3.7/dist-packages (from gym==0.17.1) (1.5.0)\n",
            "Requirement already satisfied: cloudpickle<1.4.0,>=1.2.0 in /usr/local/lib/python3.7/dist-packages (from gym==0.17.1) (1.3.0)\n",
            "Requirement already satisfied: future in /usr/local/lib/python3.7/dist-packages (from pyglet<=1.5.0,>=1.4.0->gym==0.17.1) (0.16.0)\n",
            "Building wheels for collected packages: gym\n",
            "  Building wheel for gym (setup.py) ... \u001b[?25l\u001b[?25hdone\n",
            "  Created wheel for gym: filename=gym-0.17.1-cp37-none-any.whl size=1648709 sha256=40d1098d7fda15a559e188348a0d6db7d0ff38afdd62a093618f766f5e14cbf0\n",
            "  Stored in directory: /root/.cache/pip/wheels/c0/84/61/523b92d88787ae29689b3cc08cf445d8d8186d7fbe1acbf87b\n",
            "Successfully built gym\n",
            "Installing collected packages: gym\n",
            "  Found existing installation: gym 0.17.3\n",
            "    Uninstalling gym-0.17.3:\n",
            "      Successfully uninstalled gym-0.17.3\n",
            "Successfully installed gym-0.17.1\n",
            "Collecting torch==1.4.0\n",
            "\u001b[?25l  Downloading https://files.pythonhosted.org/packages/1a/3b/fa92ece1e58a6a48ec598bab327f39d69808133e5b2fb33002ca754e381e/torch-1.4.0-cp37-cp37m-manylinux1_x86_64.whl (753.4MB)\n",
            "\u001b[K     |████████████████████████████████| 753.4MB 20kB/s \n",
            "\u001b[31mERROR: torchvision 0.9.0+cu101 has requirement torch==1.8.0, but you'll have torch 1.4.0 which is incompatible.\u001b[0m\n",
            "\u001b[31mERROR: torchtext 0.9.0 has requirement torch==1.8.0, but you'll have torch 1.4.0 which is incompatible.\u001b[0m\n",
            "\u001b[?25hInstalling collected packages: torch\n",
            "  Found existing installation: torch 1.8.0+cu101\n",
            "    Uninstalling torch-1.8.0+cu101:\n",
            "      Successfully uninstalled torch-1.8.0+cu101\n",
            "Successfully installed torch-1.4.0\n"
          ],
          "name": "stdout"
        }
      ]
    },
    {
      "cell_type": "markdown",
      "metadata": {
        "id": "SyBiYLrlExkA"
      },
      "source": [
        "<u>Libraries to be used</u>"
      ]
    },
    {
      "cell_type": "code",
      "metadata": {
        "id": "5WiMhOXAEyYF"
      },
      "source": [
        "\"\"\" Libraries to be used \"\"\"\n",
        "import random\n",
        "# PyTorch for DQN model\n",
        "import torch\n",
        "# OpenAI Gym for Mountain Car environment\n",
        "import gym\n",
        "\n",
        "# Matplotlib for visualization \n",
        "import matplotlib.pyplot as plt\n",
        "%matplotlib inline\n",
        "plt.rcParams[\"figure.facecolor\"] = \"white\"   # Set plots to have white background "
      ],
      "execution_count": 4,
      "outputs": []
    },
    {
      "cell_type": "markdown",
      "metadata": {
        "id": "B_PBzHr4EzZX"
      },
      "source": [
        "<u>Global Variables</u>"
      ]
    },
    {
      "cell_type": "code",
      "metadata": {
        "id": "wXA40KIiE0AM",
        "colab": {
          "base_uri": "https://localhost:8080/"
        },
        "outputId": "7cee5f96-b3ed-498a-f044-386e556ecc27"
      },
      "source": [
        "\"\"\" Experiment Parameters \"\"\"\n",
        "############################################################\n",
        "# You may modify the values of parameters in this cell.    #\n",
        "# However, the following values are selected in a way that #\n",
        "# an improvement of DQN model performance will be observed #\n",
        "# during training phase, if the upcoming tasks in this     #\n",
        "# checkpoint are to completed appropriately.               #\n",
        "#                                                          #\n",
        "# Therefore, it is not suggested to modify the values,     #\n",
        "# unless you have found it impossible to complete the      #\n",
        "# tasks without changing the values.                       #\n",
        "############################################################\n",
        "\n",
        "# Store parameters in a python dict for later use\n",
        "PARAMS = {}\n",
        "\n",
        "##### MountainCar Environment #####\n",
        "# ENV_NAME: name of Mountain Car environment in OpenAI Gym\n",
        "# N_STATES: number of states in Mountain Car environment\n",
        "# N_ACTIONS: number of possible actions in Mountain Car environment\n",
        "PARAMS[\"ENV_NAME\"] = 'MountainCar-v0'\n",
        "PARAMS[\"N_STATES\"] = 2\n",
        "PARAMS[\"N_ACTIONS\"] = 3\n",
        "\n",
        "##### DQN Model #####\n",
        "# GAMMA: discount rate of expected cumulative rewards, \n",
        "#        as in Q(s,a) = r + GAMMA * max_a'( Q(s',a') )\n",
        "# LR: learning rate of DQN model\n",
        "# LAMBDA: weight for regularization of network weights (as in \"weight_dacay\" parameter \n",
        "#         in PyTorch's Adam optimizer). Regularization is applied to avoid network weights \n",
        "#         have large values, and try to prevent overfitting of the model.\n",
        "# TARGET_UPDATE_PER_STEPS: Target DQN will be updated every TARGET_UPDATE_PER_STEPS\n",
        "#                          in training phase.\n",
        "PARAMS[\"GAMMA\"] = 0.99\n",
        "PARAMS[\"LR\"] = 0.001\n",
        "PARAMS[\"LAMBDA\"] = 0.0001\n",
        "PARAMS[\"TARGET_UPDATE_PER_STEPS\"] = 800\n",
        "\n",
        "##### Experience Replay #####\n",
        "# MEM_BUFFER_SIZE: max number of transitions to store in memory buffer\n",
        "# BATCH_SIZE: batch size of transitions to be sampled during Experience Replay,\n",
        "#             i.e. DQN training data input batch size\n",
        "PARAMS[\"MEM_BUFFER_SIZE\"] = 33590\n",
        "PARAMS[\"BATCH_SIZE\"] = 50\n",
        "\n",
        "##### (Decaying) Epsilon Greedy #####\n",
        "# In this notebook, linear epsilon decay is adopted, so epsilon will just decay\n",
        "# from EPS_START down to EPS_END linearly in EPS_DECAY_STEPS steps.\n",
        "# EPS_START: starting value of epsilon\n",
        "# EPS_END: min value of epsilon\n",
        "# EPS_DECAY_STEPS: number of steps for epsilon to decay from EPS_START to EPS_END.\n",
        "#                  make sure there will be many enough steps for the model to explore \n",
        "#                  at the beginning of training.\n",
        "PARAMS[\"EPS_START\"] = 1\n",
        "PARAMS[\"EPS_END\"] = 0.01\n",
        "PARAMS[\"EPS_DECAY_STEPS\"] = 10000\n",
        "\n",
        "##### Episodic Training #####\n",
        "# N_EPISODES: number of episodes to train the DQN model\n",
        "# MAX_STEP_PER_EPISODE: if the number of steps in an episode exceeds this number, \n",
        "#                       the episode will end and the environment will reset to start\n",
        "#                       the next episode\n",
        "PARAMS[\"N_EPISODES\"] = 1500\n",
        "PARAMS[\"MAX_STEP_PER_EPISODE\"] = 200\n",
        "\n",
        "# Printing out the values of all parameters (may not be ordered)\n",
        "print(\"Experiment Parameters:\")\n",
        "print()\n",
        "for key,item in PARAMS.items() :\n",
        "    print(\"PARAMS[\\\"{}\\\"] = {}\".format(key,item))"
      ],
      "execution_count": 5,
      "outputs": [
        {
          "output_type": "stream",
          "text": [
            "Experiment Parameters:\n",
            "\n",
            "PARAMS[\"ENV_NAME\"] = MountainCar-v0\n",
            "PARAMS[\"N_STATES\"] = 2\n",
            "PARAMS[\"N_ACTIONS\"] = 3\n",
            "PARAMS[\"GAMMA\"] = 0.99\n",
            "PARAMS[\"LR\"] = 0.001\n",
            "PARAMS[\"LAMBDA\"] = 0.0001\n",
            "PARAMS[\"TARGET_UPDATE_PER_STEPS\"] = 800\n",
            "PARAMS[\"MEM_BUFFER_SIZE\"] = 33590\n",
            "PARAMS[\"BATCH_SIZE\"] = 50\n",
            "PARAMS[\"EPS_START\"] = 1\n",
            "PARAMS[\"EPS_END\"] = 0.01\n",
            "PARAMS[\"EPS_DECAY_STEPS\"] = 10000\n",
            "PARAMS[\"N_EPISODES\"] = 1500\n",
            "PARAMS[\"MAX_STEP_PER_EPISODE\"] = 200\n"
          ],
          "name": "stdout"
        }
      ]
    },
    {
      "cell_type": "markdown",
      "metadata": {
        "id": "rIJeaB97CKmJ"
      },
      "source": [
        "## OpenAI Gym Mountain Car Environment\n",
        "\n",
        "Here, we will prepare the Mountain Car environment for later use."
      ]
    },
    {
      "cell_type": "code",
      "metadata": {
        "id": "h-Ep9Fxwdmd5",
        "colab": {
          "base_uri": "https://localhost:8080/"
        },
        "outputId": "7fb87519-6486-4076-f5c7-74d236098475"
      },
      "source": [
        "\"\"\" Prepare Mountain Car Environment \"\"\"\n",
        "# Make a new MountainCar environment\n",
        "env_name = PARAMS[\"ENV_NAME\"]\n",
        "env = gym.make(env_name)\n",
        "\n",
        "# Description of MountainCar environment\n",
        "print(\"State space: \", env.observation_space)\n",
        "print(\"State: (x,v) = (position along x-direction, car velocity)\")\n",
        "init_state = env.reset()           # Get initial state\n",
        "print(\"Initial state: \")\n",
        "print(init_state)\n",
        "print(\"-----\")\n",
        "print(\"Action space\", env.action_space)\n",
        "print(\"Possible actions: {0 (Push left), 1 (No push), 2 (Push right)}\")\n",
        "print(\"5 example actions: \")\n",
        "print([ env.action_space.sample() for _ in range(5) ])\n",
        "print(\"-----\")"
      ],
      "execution_count": 6,
      "outputs": [
        {
          "output_type": "stream",
          "text": [
            "State space:  Box(2,)\n",
            "State: (x,v) = (position along x-direction, car velocity)\n",
            "Initial state: \n",
            "[-0.49834285  0.        ]\n",
            "-----\n",
            "Action space Discrete(3)\n",
            "Possible actions: {0 (Push left), 1 (No push), 2 (Push right)}\n",
            "5 example actions: \n",
            "[0, 0, 2, 0, 2]\n",
            "-----\n"
          ],
          "name": "stdout"
        }
      ]
    },
    {
      "cell_type": "code",
      "metadata": {
        "id": "HQwAytqVJZG3",
        "colab": {
          "base_uri": "https://localhost:8080/",
          "height": 247
        },
        "outputId": "199b4601-3af2-4f71-f391-59f91f6c74f1"
      },
      "source": [
        "\"\"\" Game Screen Display \"\"\"\n",
        "# It is also possible to get the game screen showing position of the car.\n",
        "# An RBG image frame with shape (height,width,3) is returned with mode='rgb_array'.\n",
        "# \n",
        "# Note: Running this on server without virtual display prepared may cause error.\n",
        "#       Skip this cell if the requirement is not met.\n",
        "frame = env.render(mode='rgb_array')  \n",
        "\n",
        "# Display the frame\n",
        "plt.imshow(frame)\n",
        "plt.axis('off')\n",
        "plt.show()"
      ],
      "execution_count": 7,
      "outputs": [
        {
          "output_type": "display_data",
          "data": {
            "image/png": "[encoded data removed]",
            "text/plain": [
              "<Figure size 432x288 with 1 Axes>"
            ]
          },
          "metadata": {
            "tags": []
          }
        }
      ]
    },
    {
      "cell_type": "markdown",
      "metadata": {
        "id": "4jDFYs8joCJV"
      },
      "source": [
        "## Deep Q Network \n",
        "\n",
        "In this study, we will experiment on a DQN model that is simply a Neural Network with 2 hidden Fully-Connected (a.k.a. Linear) layers. It is noteworthy that the DQN model takes the environment state (```in_dim=N_STATES```) as input and output the predicted Q values for all possible actions (```out_dim=N_ACTIONS```), as in ```Q(s,a) for all a```. However, the implementation of this model is left unfinished.\n",
        "\n",
        "__<u>Q1) Implement the DQN model in PyTorch according to the model structure specified below.</u>__\n",
        "\n",
        "|  | Layer Type | Input Dim. | Output Dim. |\n",
        "|--|--|--|--|\n",
        "| 1 | Linear | in_dim | 50 |\n",
        "| 2 | ReLU | | |\n",
        "| 3 | Linear | 50 | 50 |\n",
        "| 4 | ReLU | | |\n",
        "| 5 | Linear | 50 | out_dim |\n",
        "\n",
        "The completed codes should pass the following test case, so that the following criterion (or criteria) is (are) fulfilled:\n",
        "\n",
        "C1.1) Model output ```y_temp``` must have shape (1,3)\n",
        "\n"
      ]
    },
    {
      "cell_type": "code",
      "metadata": {
        "id": "h69WkSYElUco"
      },
      "source": [
        "\"\"\" Deep Q Network \"\"\"\n",
        "import torch.nn as nn\n",
        "\n",
        "# Class of DQN model\n",
        "class DQN(nn.Module) :\n",
        "    # Define model structure\n",
        "    def __init__(self, in_dim, out_dim) :\n",
        "        \"\"\"\n",
        "        Inputs:\n",
        "        - in_dim: dimension of input of DQN model, expected to be the \n",
        "                       number of states (N_STATES).\n",
        "        - out_dim: dimension of output of DQN model,\n",
        "                        expected to be the number of possible actions (N_ACTIONS). \n",
        "        (so outputs of DQN model will be predicted Q-Values of input state s for \n",
        "         ALL ACTIONS, i.e. for each input\n",
        "                         state s, returns a vector of Q(s,a) for all actions a)\n",
        "                        \n",
        "        \"\"\"\n",
        "        super(DQN, self).__init__()\n",
        "        \n",
        "        # Expected input shape: (B, 2)\n",
        "        # Expected output shape: (B, 3)\n",
        "\n",
        "        # DQN Model Structure:\n",
        "        #            |            |              | Tensor Shape of   \n",
        "        # Layer Type | Input Dim. |  Output Dim. |  Layer Output   \n",
        "        # -----------|------------|--------------|-----------------\n",
        "        #  Linear    | in_dim (2) |      50      |     (B,50)\n",
        "        #  ReLU      |      -     |      -       |     (B,50)\n",
        "        #  Linear    |     50     |      50      |     (B,50)\n",
        "        #  ReLU      |      -     |      -       |     (B,50)\n",
        "        #  Linear    |     50     |  out_dim (3) |     (B,3)\n",
        "\n",
        "        # To construct your model here ...\n",
        "        self.fc1 = nn.Linear(in_dim, 50, True)\n",
        "        self.fc2 = nn.Linear(50,50, True)\n",
        "        self.out = nn.Linear(50, out_dim, True)\n",
        "\n",
        "    # (Forward Propagation) Define how input data (x) goes through the DQN model \n",
        "    def forward(self, x):\n",
        "        \"\"\"\n",
        "        Input(s):\n",
        "        - x: Batch of input states, \n",
        "             with shape (batch_size, n_states)\n",
        "\n",
        "        Output(s):\n",
        "        - Predicted Q-Values of current state for all actions, \n",
        "          with shape (batch_size, n_actions)\n",
        "        \"\"\"\n",
        "        # To be completed ...\n",
        "        x = torch.nn.functional.relu(self.fc1(x))\n",
        "        x = torch.nn.functional.relu(self.fc2(x))\n",
        "        \n",
        "        x = self.out(x)\n",
        "        return x"
      ],
      "execution_count": 8,
      "outputs": []
    },
    {
      "cell_type": "code",
      "metadata": {
        "id": "mjWJ7HwrokE6",
        "colab": {
          "base_uri": "https://localhost:8080/"
        },
        "outputId": "476634ad-11ad-445b-886c-823c69136d15"
      },
      "source": [
        "\"\"\" Q1 Test Case (DQN) \"\"\"\n",
        "#################################################\n",
        "# Please do not modify codes in this cell.      #\n",
        "# If the missing codes in the previous cell is  # \n",
        "# completed appropriately, you should be able   #\n",
        "# to execute this code cell without errors.     #\n",
        "#################################################\n",
        "\n",
        "##### Construct Temporary DQN Model for Testing #####\n",
        "# Input dim\n",
        "policy_temp = DQN(in_dim=PARAMS[\"N_STATES\"], out_dim=PARAMS[\"N_ACTIONS\"])\n",
        "\n",
        "##### Test Case #####\n",
        "# Test input state with one state: [[0.33,0.59]]\n",
        "x_temp = torch.tensor([[0.33,0.59]])   # x_temp shape: (batch_size, num_state)\n",
        "\n",
        "# Compute test model output\n",
        "y_temp = policy_temp(x_temp)  # y_temp shape: (batch_size, num_actions)\n",
        "print(\"Test results:\")\n",
        "print(\"y_temp shape: {} (expected: (1,3))\".format(y_temp.shape))\n",
        "print(\"y_temp values: {} (can be any)\".format(y_temp.tolist()))\n",
        "print(\"-----\")"
      ],
      "execution_count": 9,
      "outputs": [
        {
          "output_type": "stream",
          "text": [
            "Test results:\n",
            "y_temp shape: torch.Size([1, 3]) (expected: (1,3))\n",
            "y_temp values: [[0.11560047417879105, 0.020569410175085068, -0.060584656894207]] (can be any)\n",
            "-----\n"
          ],
          "name": "stdout"
        }
      ]
    },
    {
      "cell_type": "markdown",
      "metadata": {
        "id": "ct2wBWkmT-yG"
      },
      "source": [
        "## Experience Replay\n",
        "\n",
        "There are two things required for implementation of Experience Replay algorithm:\n",
        "\n",
        "1. Transition memory buffer to store transitions, and\n",
        "2. Main Experience Replay procedure to update network weight.\n",
        "\n",
        "Both of them have already been implemented for you in the following code cells, and there is __no missing codes in this sub-section__. The following code cells only provide the implementation codes, comments to explain code functionalities and some simple demo to illustrate how the functions work.\n",
        "\n",
        "First, the transition memory buffer is implemented as followings:\n"
      ]
    },
    {
      "cell_type": "code",
      "metadata": {
        "id": "SMgw2YK-T_oZ"
      },
      "source": [
        "\"\"\" Memory Buffer of Transitions for Experience Replay \"\"\"\n",
        "# Ref.: section \"Replay Memory\" from \"PyTorch - Reinforcement Learning (DQN) Tutorial\"\n",
        "# https://pytorch.org/tutorials/intermediate/reinforcement_q_learning.html#replay-memory\n",
        "from collections import namedtuple\n",
        "import random\n",
        "\n",
        "# Transitions: a tuple with predefined field names to store a single transaction. \n",
        "#\n",
        "# For EACH transaction, the followings will be stored in each of the fields:\n",
        "# \"state\": current state, PyTorch tensor with shape (1, N_STATES) \n",
        "# \"action\": action taken, PyTorch tensor with shape (1, 1)\n",
        "# \"reward\": reward received, PyTorch tensor with shape (1)\n",
        "# \"next_state\": state after action is performed, PyTorch tensor with shape (1, N_STATES)\n",
        "#\n",
        "# Note that a \"batch dimension\" (the first dimension with value 1) is added to the tensors (except rewards)\n",
        "# so that it will be easier for us to pack a list with B transitions (each with shape, say, (1, N_STATES)))\n",
        "# into one large tensor as DQN model input (with shape, say, (B, N_STATES))\n",
        "Transition = namedtuple('Transition',\n",
        "                        ('state', 'action', 'reward', 'next_state'))\n",
        "\n",
        "# ReplayMemory: a cyclic buffer to store transitions.\n",
        "# Later we will store transitions with push(...) function, and\n",
        "# randomly sample of transition batches with sample(...) function\n",
        "class ReplayMemory(object):\n",
        "    def __init__(self, capacity):\n",
        "        self.capacity = capacity\n",
        "        self.memory = []\n",
        "        self.position = 0\n",
        "\n",
        "    def push(self, *args):\n",
        "        \"\"\"Saves a transition.\"\"\"\n",
        "        if len(self.memory) < self.capacity:\n",
        "            self.memory.append(None)\n",
        "        self.memory[self.position] = Transition(*args)\n",
        "        self.position = (self.position + 1) % self.capacity\n",
        "\n",
        "    def sample(self, batch_size):\n",
        "        return random.sample(self.memory, batch_size)\n",
        "\n",
        "    def __len__(self):\n",
        "        return len(self.memory)"
      ],
      "execution_count": 10,
      "outputs": []
    },
    {
      "cell_type": "code",
      "metadata": {
        "id": "ACvf5qvsUDyC",
        "colab": {
          "base_uri": "https://localhost:8080/"
        },
        "outputId": "60df0ee6-85a9-405c-a3f7-4aefcaec5065"
      },
      "source": [
        "\"\"\" Demo Usage of Memory Buffer \"\"\"\n",
        "# Construct a temporary memory buffer for demo\n",
        "memory_temp = ReplayMemory(2)    # A memory buffer that can only store 2 transitions\n",
        "\n",
        "# 1st test transition \n",
        "s_temp,a_temp,r_temp,ns_temp = torch.zeros(1,2), torch.zeros(1,1).long(), torch.zeros(1), torch.zeros(1,2)\n",
        "memory_temp.push(s_temp,a_temp,r_temp,ns_temp)    # Save to memory buffer\n",
        "# 2nd test transition \n",
        "s_temp,a_temp,r_temp,ns_temp = torch.ones(1,2), torch.ones(1,1).long(), torch.ones(1), None\n",
        "memory_temp.push(s_temp,a_temp,r_temp,ns_temp)    # Save to memory buffer\n",
        "\n",
        "# Get an example transition batch with 2 transitions.\n",
        "# The returned value is a python list of 2 Transition namedtuple (state, action, reward, next_state)\n",
        "bs_temp = 2\n",
        "state_batch_temp = memory_temp.sample(bs_temp)\n",
        "print(\"Example transition batch: \")\n",
        "print(state_batch_temp)"
      ],
      "execution_count": 11,
      "outputs": [
        {
          "output_type": "stream",
          "text": [
            "Example transition batch: \n",
            "[Transition(state=tensor([[1., 1.]]), action=tensor([[1]]), reward=tensor([1.]), next_state=None), Transition(state=tensor([[0., 0.]]), action=tensor([[0]]), reward=tensor([0.]), next_state=tensor([[0., 0.]]))]\n"
          ],
          "name": "stdout"
        }
      ]
    },
    {
      "cell_type": "markdown",
      "metadata": {
        "id": "lbUh6ff9R_kr"
      },
      "source": [
        "The next code cell shows the implementation of the main Experience Replay algorithm. It is worth emphasizing that updating of DQN model network happens at the end of this function. This means that the DQN is only trained during Experience Replay, but not at other moments."
      ]
    },
    {
      "cell_type": "code",
      "metadata": {
        "id": "62KoJAqU5vdp"
      },
      "source": [
        "import torch.nn.functional as F\n",
        "\n",
        "def experience_replay(policy_net, target_net, memory, optimizer, params, DEBUG=False) :\n",
        "    \"\"\"\n",
        "    Input(s) :\n",
        "    - policy_net: Policy DQN\n",
        "    - target_net: Target DQN\n",
        "    - memory: Transition memory buffer\n",
        "    - optimizer: optimizer used by dqn model\n",
        "    - params: dictionary storing global parameters.\n",
        "              expected parameter:\n",
        "              - params[\"BATCH_SIZE\"]: input batch size\n",
        "              - params[\"GAMMA\"]: discount rate in Q(s,a) = r + gamma * max_a'( Q(s',a') )\n",
        "    - DEBUG: print debug messages if true\n",
        "    Output(s) :\n",
        "    - loss value compute from the sampled input transition batch.\n",
        "    \"\"\"\n",
        "    if DEBUG :\n",
        "        print(\"===== Start of Experience Replay =====\")\n",
        "    # Get global parameters\n",
        "    BATCH_SIZE = params[\"BATCH_SIZE\"] # Input batch size\n",
        "    GAMMA = params[\"GAMMA\"]           # Discount rate in Q(s,a) = r + gamma * max_a'( Q(s',a') )\n",
        "    \n",
        "    # Skip training DQN model if there are not enough saved transitions in the memory buffer\n",
        "    # to give a input batch.\n",
        "    if len(memory) < BATCH_SIZE :\n",
        "        # Return a loss value = 0 to notice that training is not yet started (only for logging)\n",
        "        return torch.tensor([0])\n",
        "\n",
        "    device = next(policy_net.parameters()).device # Get computation device used by DQN model\n",
        "\n",
        "    ##### Prepare Transition Data Batch #####\n",
        "    # Randomly sample BATCH_SIZE Transition tuples (state, action, reward, next_state),\n",
        "    # each of (state, action, reward, next_state) is a PyTorch tensor. \n",
        "    # Shapes of tensors (in each 4-tuple in \"transitions\"): \n",
        "    #    state: (1, N_STATES), action: (1, 1), reward: (1), next_state: (1, N_STATES)\n",
        "    # \"transitions\" is then a python list of 4-tuples with length BATCH_SIZE.\n",
        "    transitions = memory.sample(BATCH_SIZE)\n",
        "    # Convert the python list of Transition tuples (\"transitions\") to one single \n",
        "    # Transititon tuple (state, action, reward, next_state) (\"batch\"). \n",
        "    # Each of (state, action, reward, next_state) in \"batch\" is a list (with length BATCH_SIZE) \n",
        "    # of tensors of that field in this data batch.\n",
        "    batch = Transition(*zip(*transitions))\n",
        "\n",
        "    # For each list of tensors (batch.[state/action/next_state/reward]) in \"batch\",\n",
        "    # convert the list into one single tensor ([state/action/next_state/reward]_batch).\n",
        "    #\n",
        "    # torch.cat(...) is used to concatenate a list of B tensors with shape (1, N) to \n",
        "    # a tensor with shape (B, N)\n",
        "    state_batch = torch.cat(batch.state)                                                       # shape: (B, N_STATES)\n",
        "    action_batch = torch.cat(batch.action)                                                     # shape: (B, 1)\n",
        "    reward_batch = torch.cat(batch.reward)                                                     # shape: (B)\n",
        "    # Now, state_batch has the shape of input data to the DQN model.\n",
        "\n",
        "    # However, it is not enough to simply concatenate batch.next_state (list of smaller tensors) \n",
        "    # as next_state_batch (one larger tensor).\n",
        "    # This is because if the terminal state is achieved, next_state is marked as None.\n",
        "    # Also, later when we try to predict Q(s',a') for next state s', DQL is not designed to accept \n",
        "    # terminal next state, and we will just set the term \"gamma * max_a'( Q(s',a') )\" to 0.\n",
        "    #\n",
        "    # Thus, we extract the non-final next state first, which will be used to predict Q(s',a') of \n",
        "    # non-final next states later.\n",
        "    non_final_next_states = torch.cat([s for s in batch.next_state\n",
        "                                                if s is not None])                             # shape: (B_non_final)\n",
        "    # To keep track of the non-final next states, we use a mask to mark down locations of values \n",
        "    # of non-final next states.\n",
        "    non_final_mask = torch.tensor(tuple(map(lambda s: s is not None,\n",
        "                                          batch.next_state)), device=device, dtype=torch.bool)\n",
        "                                                                                               # shape: (B)\n",
        "    if DEBUG :\n",
        "        print(\"State batch: \\n\", state_batch)\n",
        "        print(\"Action batch: \\n\", action_batch)\n",
        "        print(\"Reward batch: \\n\", reward_batch)\n",
        "        print(\"Locations of non-final next states: \\n\", non_final_mask)\n",
        "        print(\"-----\")\n",
        "\n",
        "    ##### Deep Q Learning #####\n",
        "    # Recall the equation of Q Learning:\n",
        "    #     Q(s,a) = r + gamma * max_a'( Q(s',a') ) \n",
        "\n",
        "    ### LHS: Q(s,a) ###\n",
        "    # policy_net(state_batch) :                                                                # shape: (B, N_ACTIONS)\n",
        "    #     Policy DQN predicts Q values of current state Q(s,a) for all possible actions a.\n",
        "    # policy_net(state_batch).gather(1, action_batch): \n",
        "    #     As we are only interested in updating the Q value Q(s,a) of the taken action a,\n",
        "    #     we gather the corresponding the concerned Q value according to index of action in action_batch.\n",
        "    state_action_values = policy_net(state_batch).gather(1, action_batch)                      # shape: (B,1)\n",
        "    if DEBUG :\n",
        "        print(\"Predicted Q values (LHS) = Q(s,a)\")\n",
        "        print(\"= \", state_action_values)\n",
        "\n",
        "    ### RHS: r + gamma * max_a'( Q(s',a') ) ###\n",
        "    # next_state_values :\n",
        "    #     prepare a 0-value tensor for later to store the max predicted Q values max_a'(Q(s',a')).\n",
        "    next_state_values = torch.zeros(BATCH_SIZE, device=device)                                 # shape: (B)\n",
        "    # target_net(non_final_next_states), shape (B_non_final) :\n",
        "    #     Target DQN predicts Q values Q(s',a') for all possible actions a' (for non-final next state only)\n",
        "    # target_net(non_final_next_states).max(1)[0].detach(), shape (B_non_final)\n",
        "    #     max value of predicted Q values max_a'(Q(s',a'))\n",
        "    # next_state_values[non_final_mask] = target_net(non_final_next_states).max(1)[0].detach() :\n",
        "    #     update only values in next_state_values that correspond to non-final next states\n",
        "    next_state_values[non_final_mask] = target_net(non_final_next_states).max(1)[0].detach()   # shape: (B)\n",
        "    # expected_state_action_values :\n",
        "    #     target Q values = r + gamma * max_a'( Q(s',a') )\n",
        "    expected_state_action_values = reward_batch + (GAMMA * next_state_values)                  # shape: (B)\n",
        "    if DEBUG :\n",
        "        print(\"Target Q values (RHS) = r + gamma * max_a'( Q(s',a') )\")\n",
        "        print(\"= \", expected_state_action_values)\n",
        "\n",
        "    ##### Update Network Weights #####\n",
        "    # Compute the loss between predicted Q values (LHS) and target Q values (RHS).\n",
        "    # Mean Squared Error (MSE) is used as the loss function:\n",
        "    #     loss = (LHS - RHS)^2\n",
        "    loss = F.mse_loss(state_action_values, expected_state_action_values.unsqueeze(1))\n",
        "\n",
        "    # Update of DQN network weights\n",
        "    optimizer.zero_grad()\n",
        "    loss.backward()\n",
        "    for param in policy_net.parameters():\n",
        "        # Gradients are clipped within range [-1,1], to prevent exploding magnitude of gradients\n",
        "        # and failure of training.\n",
        "        param.grad.data.clamp_(-1, 1)\n",
        "    optimizer.step()\n",
        "\n",
        "    if DEBUG :\n",
        "        print(\"Loss: \", loss)\n",
        "        print(\"===== End of Experience Replay =====\")\n",
        "    # Return the computed loss value (for logging outside this function)\n",
        "    return loss\n"
      ],
      "execution_count": 12,
      "outputs": []
    },
    {
      "cell_type": "code",
      "metadata": {
        "id": "ZbwbFecDVQg1",
        "colab": {
          "base_uri": "https://localhost:8080/"
        },
        "outputId": "d46d323e-1e4f-4dc3-89cf-7a1b14a3e70a"
      },
      "source": [
        "\"\"\" Demo of Experience Replay \"\"\"\n",
        "# From previous demos:\n",
        "# policy_temp: test policy DQN\n",
        "# memory_temp: test memory buffer\n",
        "\n",
        "# Construct temporary target DQNs\n",
        "target_temp = DQN(in_dim=PARAMS[\"N_STATES\"], out_dim=PARAMS[\"N_ACTIONS\"])\n",
        "\n",
        "# Construct a temporary optimizer\n",
        "import torch.optim as optim\n",
        "optimizer_temp = optim.Adam(policy_temp.parameters(), lr=0.1)\n",
        "params_temp = {\"BATCH_SIZE\":2, \"GAMMA\": 0.99}\n",
        "\n",
        "# Demo of experience replay. \n",
        "# By setting DEBUG=True, values at intermediate steps will be displayed.\n",
        "# The returned value is the loss computed while updated the network weights\n",
        "loss_temp = experience_replay(policy_temp, target_temp, memory_temp, optimizer_temp, params_temp, DEBUG=True)\n",
        "print(\"\")\n",
        "print(\"Loss computed while updated the network weights: \", loss_temp)"
      ],
      "execution_count": 13,
      "outputs": [
        {
          "output_type": "stream",
          "text": [
            "===== Start of Experience Replay =====\n",
            "State batch: \n",
            " tensor([[1., 1.],\n",
            "        [0., 0.]])\n",
            "Action batch: \n",
            " tensor([[1],\n",
            "        [0]])\n",
            "Reward batch: \n",
            " tensor([1., 0.])\n",
            "Locations of non-final next states: \n",
            " tensor([False,  True])\n",
            "-----\n",
            "Predicted Q values (LHS) = Q(s,a)\n",
            "=  tensor([[0.0543],\n",
            "        [0.0321]], grad_fn=<GatherBackward>)\n",
            "Target Q values (RHS) = r + gamma * max_a'( Q(s',a') )\n",
            "=  tensor([1.0000, 0.0601])\n",
            "Loss:  tensor(0.4476, grad_fn=<MseLossBackward>)\n",
            "===== End of Experience Replay =====\n",
            "\n",
            "Loss computed while updated the network weights:  tensor(0.4476, grad_fn=<MseLossBackward>)\n"
          ],
          "name": "stdout"
        }
      ]
    },
    {
      "cell_type": "markdown",
      "metadata": {
        "id": "N7k1tG8eqvmk"
      },
      "source": [
        "## Decaying Epsilon Greedy Exploration Policy\n",
        "\n",
        "Previously in Module 5, we have studied the topic of Exploration-Exploitation trade-off, and we have studied the use of Epsilon-greedy policy to guide the RL model to manage the balance between exploration and exploitation. In the previous example we have studied, we only used a constant exploration probability for all the time during training. In this study, we use a decaying exploration probability which starts at a large probability and decays over time. This allows the DQN model to explore more states at the beginning, and then attempt to refine its learning when training goes on. \n",
        "\n",
        "For simplicity, we only make epsilon to decay linearly over time.\n"
      ]
    },
    {
      "cell_type": "code",
      "metadata": {
        "id": "1tPlgHLjpq84"
      },
      "source": [
        "\"\"\" Epsilon Decay \"\"\"\n",
        "import math\n",
        "\n",
        "def get_epsilon(global_step, params):\n",
        "    \"\"\"\n",
        "    Input(s) :\n",
        "    - global_step: total number of steps taken so far from the beginning of training phase\n",
        "    - params: dictionary of global parameters, expecting values:\n",
        "              - params[\"EPS_START\"]: starting value of epsilon\n",
        "              - params[\"EPS_EN\"]: min value of epsilon\n",
        "              - params[\"EPS_DECAY_STEPS\"]: number of steps for epsilon to decay from EPS_START to EPS_END.\n",
        "    Output(s):\n",
        "    - epsilon value at global_step\n",
        "    \"\"\"\n",
        "    EPS_START = params[\"EPS_START\"]\n",
        "    EPS_END = params[\"EPS_END\"]\n",
        "    EPS_DECAY_STEPS = params[\"EPS_DECAY_STEPS\"]\n",
        "\n",
        "    if global_step <= EPS_DECAY_STEPS :\n",
        "        # When global_step <= EPS_DECAY_STEPS, epsilon is decaying linearly.\n",
        "        return EPS_START - global_step * (EPS_START - EPS_END)/EPS_DECAY_STEPS\n",
        "    else :\n",
        "        # Otherwise, epsilon stops decaying and stay at its minimum value EPS_END\n",
        "        return EPS_END"
      ],
      "execution_count": 14,
      "outputs": []
    },
    {
      "cell_type": "code",
      "metadata": {
        "id": "aOnN9gVyrNqu",
        "colab": {
          "base_uri": "https://localhost:8080/",
          "height": 343
        },
        "outputId": "0a6630bd-b232-4559-822d-299fc7870c3d"
      },
      "source": [
        "\"\"\" Demonstration of Decaying value of Epsilon \"\"\"\n",
        "# Setting for demonstration of decaying epsilon value\n",
        "print(\"Starting epsilon value: \", PARAMS[\"EPS_START\"])\n",
        "print(\"Minimum epsilon value: \", PARAMS[\"EPS_END\"])\n",
        "print(\"#Steps of (linear) decay: \", PARAMS[\"EPS_DECAY_STEPS\"])\n",
        "\n",
        "# Let's observe for 20000 timesteps\n",
        "steps_temp = [ i for i in range(20000) ]\n",
        "\n",
        "# Get the epsilon value at each of the 20000 timesteps\n",
        "eps_temp = [ get_epsilon(step, PARAMS) for step in steps_temp ]\n",
        "\n",
        "# Plotting the trend of epsilon value\n",
        "fig, ax = plt.subplots()\n",
        "ax.set_title(\"Epsilon in Decaying Epsilon Greedy\")\n",
        "ax.plot(eps_temp)\n",
        "ax.set_xlabel(\"Timestep\")\n",
        "ax.set_ylabel(\"Epsilon\")\n",
        "ax.annotate('Until 10000th step:\\nLinear decay',\n",
        "            xy=(100.0, 225.0), xycoords='figure pixels')\n",
        "ax.annotate('After 10000th step:\\nMin value',\n",
        "            xy=(250.0, 75.0), xycoords='figure pixels')\n",
        "ax.axvline(10000, color='gray', alpha=0.5, dashes=(5,2,1,2))\n",
        "plt.show()"
      ],
      "execution_count": 15,
      "outputs": [
        {
          "output_type": "stream",
          "text": [
            "Starting epsilon value:  1\n",
            "Minimum epsilon value:  0.01\n",
            "#Steps of (linear) decay:  10000\n"
          ],
          "name": "stdout"
        },
        {
          "output_type": "display_data",
          "data": {
            "image/png": "[encoded data removed]",
            "text/plain": [
              "<Figure size 432x288 with 1 Axes>"
            ]
          },
          "metadata": {
            "tags": []
          }
        }
      ]
    },
    {
      "cell_type": "markdown",
      "metadata": {
        "id": "HKx1xMLZrF0l"
      },
      "source": [
        "At each step, we determine the action based on the epsilon value. Recall that in Epsilon-greedy policy:\n",
        "1. with probability epsilon: take random action (Exploration)\n",
        "2. otherwise: predict action with DQN model (Exploitation)\n",
        "\n",
        "__The implementation of Epsilon-greedy policy is left for you to finish.__\n",
        "\n",
        "__<u>Q2) Implement Epsilon-greedy policy according to the instructions provided below.</u>__\n",
        "\n",
        "The completed codes should pass the following test case, so that the following criterion (or criteria) is (are) fulfilled:\n",
        "\n",
        "C2.1) For “Test Case 2.1”, the 10 output actions should have DIFFERENT values (may have duplication, but not all the same)\n",
        "\n",
        "C2.2) For “Test Case 2.2”, the 10 output actions should have the SAME value\n"
      ]
    },
    {
      "cell_type": "code",
      "metadata": {
        "id": "GlwpnHg_rFJs"
      },
      "source": [
        "\"\"\" Epsilon-Greedy Policy \"\"\"\n",
        "def select_action(policy_net, state, epsilon, params):\n",
        "    \"\"\"\n",
        "    Input(s) :\n",
        "    - policy_net: Policy DQN for predicting Q values (for Exploitation)\n",
        "    - state: current state for predicting Q values (for Exploitation)\n",
        "    - epsilon: exploration probability\n",
        "    - params: dictionary of global parameters, expecting:\n",
        "              - params[\"N_ACTIONS\"]: number of possible actions\n",
        "    Output(s) :\n",
        "    - action: action to be taken, a tensor with type long and shape (1,1)\n",
        "    \"\"\"\n",
        "    if random.random() <= epsilon :\n",
        "        # With prob. epsilon,\n",
        "        # (Exploration) select random action.\n",
        "        device = next(policy_net.parameters()).device # Get computation device used by DQN model\n",
        "\n",
        "        # Your task:\n",
        "        # 1. Pick a random action \n",
        "        # 2. Prepare the action as a tensor with type long and shape (1,1)\n",
        "        # (Hint: you may consider random.randrange(...))\n",
        "        #action = ...\n",
        "        action = torch.tensor(random.randrange(params[\"N_ACTIONS\"]), dtype=torch.long)\n",
        "        action = action.reshape(1,1)\n",
        "    else :\n",
        "        # With prob. 1 - epsilon, \n",
        "        # (Exploitation) select action with max predicted Q-Values of current state.\n",
        "\n",
        "        # Your task:\n",
        "        # 1. Predict Q values of current state\n",
        "        # 2. Select action with greatest Q value\n",
        "        # 3. Prepare the action as a tensor with type long and shape (1,1)\n",
        "        # (Hint: policy_net(state) outputs the Q values for all actions)\n",
        "        #with torch.no_grad():\n",
        "        #     action = ...\n",
        "        with torch.no_grad():\n",
        "            action = torch.tensor([policy_net(state).argmax(dim=1).item()], dtype=torch.long)\n",
        "            action = action.reshape([1,1])\n",
        "    return action\n"
      ],
      "execution_count": 16,
      "outputs": []
    },
    {
      "cell_type": "code",
      "metadata": {
        "id": "2f9Ad-gvyTkg",
        "colab": {
          "base_uri": "https://localhost:8080/"
        },
        "outputId": "57ab0c17-ecbe-4e7f-eae3-b2d5b75c6582"
      },
      "source": [
        "\"\"\" Q2 Test Cases (Epsilon Greedy) \"\"\"\n",
        "#################################################\n",
        "# Please do not modify codes in this cell.      #\n",
        "# If the missing codes in the previous cell is  # \n",
        "# completed appropriately, you should be able   #\n",
        "# to execute this code cell without errors.     #\n",
        "#################################################\n",
        "\n",
        "s_temp = torch.zeros(1,2)  # use [[0,0]] as an test input state \n",
        "\n",
        "##### Test Case 2.1 - Exploration #####\n",
        "# Epsilon=1: Always explore (use random action)\n",
        "eps_explore = 1\n",
        "\n",
        "actions_explore = [ select_action(policy_temp, s_temp, eps_explore, PARAMS) \\\n",
        "                        for _ in range(10) ]\n",
        "print(\"Test Case 2.1 - Exploration: \")\n",
        "print(\"Actions (Expected to have DIFFERENT values): \")\n",
        "print(torch.cat(actions_explore).tolist())         # Convert to a list for clear display\n",
        "print(\"-----\")\n",
        "\n",
        "##### Test Case 2.2 - Exploitation #####\n",
        "# Epsilon=0: Always exploit (use model predicted action)\n",
        "eps_exploitation = 0\n",
        "\n",
        "# Using the same state, get the suggested action for 10 times\n",
        "actions_exploitation = [ select_action(policy_temp, s_temp, eps_exploitation, PARAMS) \\\n",
        "                        for _ in range(10) ]\n",
        "print(\"Test Case 2.2 - Exploitation: \")          \n",
        "print(\"Actions (Expected to have the SAME value for all 10 trials): \")\n",
        "print(torch.cat(actions_exploitation).tolist())    # Convert to a list for clear display\n",
        "print(\"-----\")"
      ],
      "execution_count": 17,
      "outputs": [
        {
          "output_type": "stream",
          "text": [
            "Test Case 2.1 - Exploration: \n",
            "Actions (Expected to have DIFFERENT values): \n",
            "[[2], [2], [0], [1], [1], [1], [1], [1], [0], [0]]\n",
            "-----\n",
            "Test Case 2.2 - Exploitation: \n",
            "Actions (Expected to have the SAME value for all 10 trials): \n",
            "[[1], [1], [1], [1], [1], [1], [1], [1], [1], [1]]\n",
            "-----\n"
          ],
          "name": "stdout"
        }
      ]
    },
    {
      "cell_type": "markdown",
      "metadata": {
        "id": "dzPU7mky4c5n"
      },
      "source": [
        "# Utility Functions\n",
        "\n",
        "Some utility functions are prepared to facilitate training of DQN model later. There is no missing part in this sub-section."
      ]
    },
    {
      "cell_type": "code",
      "metadata": {
        "id": "jBypgnjD4cbc"
      },
      "source": [
        "def preprocess_state(state, device=None) :\n",
        "    \"\"\"\n",
        "    To convert the state prepared by Gym and to a format\n",
        "    that is convenient for later processing \n",
        "    (see comments in function Experience replay)\n",
        "\n",
        "    Input(s) :\n",
        "    - state: state numpy array prepared by Gym envrionment\n",
        "    - device: computation device used for PyTorch tensors\n",
        "    \n",
        "    Output(s) :\n",
        "    - state: state as a PyTorch tensor with type float and\n",
        "             shape (1,2)\n",
        "    \"\"\"\n",
        "    #                                # The following values are default values.\n",
        "    #                                # variable type | value type | data shape\n",
        "    # input state                    # numpy.ndarray |   float64  | (2,)  \n",
        "    state = torch.from_numpy(state)  # torch.Tensor  |   double   | (2)  \n",
        "    state = state.float()            # torch.Tensor  |   float    | (2)  \n",
        "    state = state.unsqueeze(0)       # torch.Tensor  |   float    | (1,2)  \n",
        "\n",
        "    # Pass state tensor to the specified computation device \n",
        "    # (if None, the default device is used)\n",
        "    state = state.to(device)\n",
        "\n",
        "    return state\n",
        "\n",
        "def adjust_reward(reward, next_state) :\n",
        "    \"\"\"\n",
        "    Adjust reward based on the reward itself and the next state to \n",
        "    foster training of DQN model.\n",
        "    see: https://towardsdatascience.com/getting-started-with-reinforcement-learning-and-open-ai-gym-c289aca874f\n",
        "\n",
        "    Input(s) :\n",
        "    - reward: reward received from envrionment\n",
        "    - next_state: next state after action is taken\n",
        "\n",
        "    Output(s) :\n",
        "    - adjusted reward, as a integer value\n",
        "    \"\"\"\n",
        "    if next_state[0] >= 0.1:\n",
        "        reward += 10\n",
        "    elif next_state[0] >= 0.25:\n",
        "        reward += 20\n",
        "    elif next_state[0] >= 0.5:\n",
        "        reward += 100\n",
        "      \n",
        "    return reward"
      ],
      "execution_count": 18,
      "outputs": []
    },
    {
      "cell_type": "markdown",
      "metadata": {
        "id": "vEooHJrs3qRh"
      },
      "source": [
        "## Main Model Training Loop\n",
        "\n",
        "With the functions implemented above, we can start training the DQN model here. Most of the codes of the training loop are prepared, but there are 5 steps left unfinished. Your task is then to complete the 5 missing parts and the training codes work.\n",
        "\n",
        "__<u>Q3) Complete the 5 missing code sections according to the instructions provided below.</u>__\n",
        "\n",
        "The completed codes should pass the following test case, so that the following criterion (or criteria) is (are) fulfilled:\n",
        "\n",
        "C3.1) The training codes can be executed without errors\n",
        "\n",
        "C3.2) It can be shown that the performance of DQN model is improved after training, using the evaluation codes provided in the next sub-section (\"Training Results\").\n",
        "\n",
        "Hints:\n",
        "- Most of the sub-tasks below only require simple reuses of the appropriate function(s) defined above.\n",
        "- You may change the values of hyperparameters defined earlier. However, if all the codes in this checkpoint are completed appropriately, the default hyperparameter values should be good enough to train a DQN model that shows improved performance at the end of training (refer to sub-section \"Training Results\"). Therefore, it is __not suggested__ to modify the values for the purpose of completing this checkpoint, unless you have found it impossible to meet the requirements without doing so.\n"
      ]
    },
    {
      "cell_type": "code",
      "metadata": {
        "id": "EUkgidzU5753",
        "colab": {
          "base_uri": "https://localhost:8080/"
        },
        "outputId": "f19a8d71-aad9-4faf-adde-212dd160bfc9"
      },
      "source": [
        "\"\"\" Initialize DQN Model and Memory Buffer\"\"\"\n",
        "##### Deep Q Network Model #####\n",
        "# Computation device\n",
        "device = torch.device(\"cuda\" if torch.cuda.is_available() else \"cpu\")\n",
        "print(\"Device: \", device)\n",
        "\n",
        "# Construct Policy/Target DQN model\n",
        "policy_net = DQN(in_dim=PARAMS[\"N_STATES\"], out_dim=PARAMS[\"N_ACTIONS\"]).to(device)\n",
        "target_net = DQN(in_dim=PARAMS[\"N_STATES\"], out_dim=PARAMS[\"N_ACTIONS\"]).to(device)\n",
        "# Initialize Target DQN by copying Policy DQN's initial weights\n",
        "target_net.load_state_dict(policy_net.state_dict())\n",
        "# Set target network to eval model. We do not train target network to modify its network weights\n",
        "target_net.eval()   \n",
        "print(\"DQN Model Structure: \")\n",
        "print(policy_net)\n",
        "\n",
        "# Optimizer (created for Policy DQN)\n",
        "import torch.optim as optim\n",
        "optimizer = optim.Adam(policy_net.parameters(), lr=PARAMS[\"LR\"], weight_decay=PARAMS[\"LAMBDA\"])\n",
        "print(\"-----\")\n",
        "##### Memory Buffer for Experience Replay #####\n",
        "memory = ReplayMemory(PARAMS[\"MEM_BUFFER_SIZE\"])\n",
        "print(\"Memory Buffer Size: \", PARAMS[\"MEM_BUFFER_SIZE\"])\n",
        "print(\"Saved Transitions in Memory: {} (Empty)\".format(len(memory)))\n",
        "print(\"-----\")"
      ],
      "execution_count": 19,
      "outputs": [
        {
          "output_type": "stream",
          "text": [
            "Device:  cpu\n",
            "DQN Model Structure: \n",
            "DQN(\n",
            "  (fc1): Linear(in_features=2, out_features=50, bias=True)\n",
            "  (fc2): Linear(in_features=50, out_features=50, bias=True)\n",
            "  (out): Linear(in_features=50, out_features=3, bias=True)\n",
            ")\n",
            "-----\n",
            "Memory Buffer Size:  33590\n",
            "Saved Transitions in Memory: 0 (Empty)\n",
            "-----\n"
          ],
          "name": "stdout"
        }
      ]
    },
    {
      "cell_type": "code",
      "metadata": {
        "id": "P98OTOyl3mjE",
        "colab": {
          "base_uri": "https://localhost:8080/"
        },
        "outputId": "a3f40149-6827-431d-da33-c18c9f576976"
      },
      "source": [
        "\"\"\" Main Training Loop \"\"\"\n",
        "from time import time\n",
        "\n",
        "# For logging\n",
        "global_steps = 0    # Counter of total #steps in training phase\n",
        "all_rewards = []    # Rewards received in each episode\n",
        "all_steps = []      # Steps taken in each episode\n",
        "all_max_xs = []     # Max x car position achieved in each episode\n",
        "\n",
        "##### 1. Initialization #####\n",
        "# policy_net: Policy DQN created and initialize above\n",
        "# target_net: Target DQN created and initialize above\n",
        "# memory: memory buffer created and initialize above\n",
        "\n",
        "##### 2. Loop for Episodes #####\n",
        "# Start of Training \n",
        "policy_net.train()         # Set Policy DQN model as train mode \n",
        "start_time = time() # Timer\n",
        "for episode in range(PARAMS[\"N_EPISODES\"]) :\n",
        "    if episode%100 == 0 :\n",
        "        print(\"===== Episode {} =====\".format(episode))\n",
        "    ##### 2.1. (Game Starts) Initialization of Mountain Car Environment #####\n",
        "    # Initialize the environment, get initial state\n",
        "    state = env.reset()\n",
        "    # Preprocess state \n",
        "    state = preprocess_state(state, device)\n",
        "    \n",
        "    ##### 2.2. Loop for Steps #####\n",
        "    # Logging for current episode\n",
        "    done = None            # To mark if current episode is done\n",
        "    episode_steps = 0      # Counter of steps taken in current episode\n",
        "    episode_reward = 0     # Sum of rewards received in current episode\n",
        "    episode_max_x = -100   # Record the max x car position achieved in current episode\n",
        "\n",
        "    # Loop till end of episode (done = True)\n",
        "    while not done :\n",
        "        ##### 2.2.1. (Epsilon-Greedy) Select Action #####\n",
        "        # ------------------------- Sub-Task 1 -------------------------\n",
        "        # Get epsilon value based on total number of steps taken during entire training phase\n",
        "        # Returned epsilon is a float value.\n",
        "        #epsilon = ...\n",
        "        epsilon = get_epsilon(global_steps, PARAMS)\n",
        "        # ------------------------- End of Sub-Task 1 -------------------------\n",
        "\n",
        "        # ------------------------- Sub-Task 2 ------------------------- \n",
        "        # Select action with epsilon-greedy policy using Policy DQN.\n",
        "        # Returned action is a tensor with shape (1,1).\n",
        "        #action = ...\n",
        "        action = select_action(policy_net, state, epsilon, PARAMS)\n",
        "        # ------------------------- End of Sub-Task 2 -------------------------             \n",
        "        \n",
        "        ##### 2.2.2. Take Action #####\n",
        "        # ------------------------- Sub-Task 3 -------------------------\n",
        "        # Take action and get observations (next_state, rewards, done)\n",
        "        #next_state, reward, done ...\n",
        "        next_state, reward, done, info = env.step(action.item())\n",
        "       \n",
        "\n",
        "\n",
        "        # ------------------------- End of Sub-Task 3 -------------------------\n",
        "        # Adjust reward received to foster training of DQN model\n",
        "        reward = adjust_reward(reward, next_state)\n",
        "\n",
        "        ##### 2.2.3. (Experiment Replay) Store Transition #####\n",
        "        # Before storing (state, action, next_state, rewards) to memory buffer,\n",
        "        # convert the values into PyTorch tensors. \n",
        "        # state: converted to tensor from previous iteration\n",
        "        # action: prepared as tensor in function select_action(...)\n",
        "        # next_state:\n",
        "        if not done:\n",
        "            # If next state is not a terminal state, next_state will be memorized.\n",
        "            # Preprocess next_state before saving to memory.\n",
        "            next_state = preprocess_state(next_state, device)\n",
        "        else :\n",
        "            # If next state is a terminal state, mark next_state as None.\n",
        "            # Later during Experience Replay, the corresponding Q values will be \n",
        "            # set to 0s.\n",
        "            next_state = None\n",
        "        # reward: convert to tensor with shape (1)\n",
        "        reward = torch.tensor([reward], device=device)\n",
        "        \n",
        "        # ------------------------- Sub-Task 4 -------------------------\n",
        "        # Store the transition (s,a,r,s') in memory\n",
        "        #...\n",
        "        memory.push(state, action, reward, next_state)\n",
        "        # ------------------------- End of Sub-Task 4 -------------------------\n",
        "\n",
        "        ##### 2.2.4. (Experiment Replay) Train DQN Model by sampling a Transitions Batch from Memory #####\n",
        "        # ------------------------- Sub-Task 5 -------------------------\n",
        "        # Note that update network weights of Policy DQN occurs here.\n",
        "        #...\n",
        "        experience_replay(policy_net, target_net, memory, optimizer, PARAMS, DEBUG=False)\n",
        "        \n",
        "        # ------------------------- End of Sub-Task 5 -------------------------\n",
        "\n",
        "        ##### 2.2.5 Update Target DQN network weights #####\n",
        "        # Only update Target DQN once in every TARGET_UPDATE_PER_STEPS steps in the entire training phase\n",
        "        if global_steps%PARAMS[\"TARGET_UPDATE_PER_STEPS\"] == 0 :\n",
        "            target_net.load_state_dict(policy_net.state_dict())\n",
        "\n",
        "        ##### 2.2.6 End of Epsiode #####\n",
        "        # Update training results at the end of episode.\n",
        "        state = next_state\n",
        "        global_steps += 1\n",
        "        episode_reward += reward.item()\n",
        "        episode_steps += 1\n",
        "        if next_state is not None and next_state[0,0] > episode_max_x :\n",
        "            episode_max_x = next_state[0,0].item()    \n",
        "        \n",
        "        # If too many steps are taken in this episode, forcibly stop this episode.\n",
        "        # This it to avoid the current episode ends up looping.\n",
        "        if episode_steps > PARAMS[\"MAX_STEP_PER_EPISODE\"] :\n",
        "            # However, this is not triggered in this example, because\n",
        "            # because PARAMS[\"MAX_STEP_PER_EPISODE\"] is set to be equal to \n",
        "            # the default max number of steps of Mountain Car environment.\n",
        "            # This checking is left here only as a remark of such scenario.\n",
        "            break\n",
        "\n",
        "    # Logging after an episode\n",
        "    end_time = time()\n",
        "    all_rewards.append(episode_reward)\n",
        "    all_steps.append(episode_steps)\n",
        "    all_max_xs.append(episode_max_x)\n",
        "    \n",
        "    # Print out logging messages\n",
        "    if episode%100 == 0 :\n",
        "        print(\"Time: \", end_time-start_time)\n",
        "        print(\"Steps: \", episode_steps)\n",
        "        print(\"Global Steps: \", global_steps)\n",
        "        print(\"Epsilon: \", epsilon)\n",
        "        print(\"Reward: \", episode_reward)\n",
        "        print(\"Max x Pos:\", episode_max_x)\n",
        "        print(\"====================\")\n",
        "      "
      ],
      "execution_count": 20,
      "outputs": [
        {
          "output_type": "stream",
          "text": [
            "===== Episode 0 =====\n",
            "Time:  0.3598034381866455\n",
            "Steps:  200\n",
            "Global Steps:  200\n",
            "Epsilon:  0.980299\n",
            "Reward:  -200.0\n",
            "Max x Pos: -0.3920305371284485\n",
            "====================\n",
            "===== Episode 100 =====\n",
            "Time:  62.323678731918335\n",
            "Steps:  200\n",
            "Global Steps:  20173\n",
            "Epsilon:  0.01\n",
            "Reward:  -200.0\n",
            "Max x Pos: -0.1923815906047821\n",
            "====================\n",
            "===== Episode 200 =====\n",
            "Time:  123.81465268135071\n",
            "Steps:  200\n",
            "Global Steps:  40173\n",
            "Epsilon:  0.01\n",
            "Reward:  -200.0\n",
            "Max x Pos: -0.11716075986623764\n",
            "====================\n",
            "===== Episode 300 =====\n",
            "Time:  186.3075089454651\n",
            "Steps:  200\n",
            "Global Steps:  59657\n",
            "Epsilon:  0.01\n",
            "Reward:  -20.0\n",
            "Max x Pos: 0.15303124487400055\n",
            "====================\n",
            "===== Episode 400 =====\n",
            "Time:  251.128662109375\n",
            "Steps:  155\n",
            "Global Steps:  78728\n",
            "Epsilon:  0.01\n",
            "Reward:  -55.0\n",
            "Max x Pos: 0.4636954069137573\n",
            "====================\n",
            "===== Episode 500 =====\n",
            "Time:  313.01060700416565\n",
            "Steps:  153\n",
            "Global Steps:  96558\n",
            "Epsilon:  0.01\n",
            "Reward:  17.0\n",
            "Max x Pos: 0.4819982945919037\n",
            "====================\n",
            "===== Episode 600 =====\n",
            "Time:  377.80614948272705\n",
            "Steps:  200\n",
            "Global Steps:  115437\n",
            "Epsilon:  0.01\n",
            "Reward:  -200.0\n",
            "Max x Pos: -0.5173434019088745\n",
            "====================\n",
            "===== Episode 700 =====\n",
            "Time:  443.169602394104\n",
            "Steps:  200\n",
            "Global Steps:  135075\n",
            "Epsilon:  0.01\n",
            "Reward:  20.0\n",
            "Max x Pos: 0.18339644372463226\n",
            "====================\n",
            "===== Episode 800 =====\n",
            "Time:  503.3222403526306\n",
            "Steps:  149\n",
            "Global Steps:  153008\n",
            "Epsilon:  0.01\n",
            "Reward:  -19.0\n",
            "Max x Pos: 0.4920870363712311\n",
            "====================\n",
            "===== Episode 900 =====\n",
            "Time:  557.7606935501099\n",
            "Steps:  200\n",
            "Global Steps:  170245\n",
            "Epsilon:  0.01\n",
            "Reward:  -200.0\n",
            "Max x Pos: -0.49907776713371277\n",
            "====================\n",
            "===== Episode 1000 =====\n",
            "Time:  605.3493242263794\n",
            "Steps:  198\n",
            "Global Steps:  187155\n",
            "Epsilon:  0.01\n",
            "Reward:  -98.0\n",
            "Max x Pos: 0.46083712577819824\n",
            "====================\n",
            "===== Episode 1100 =====\n",
            "Time:  649.4854423999786\n",
            "Steps:  195\n",
            "Global Steps:  203465\n",
            "Epsilon:  0.01\n",
            "Reward:  -15.0\n",
            "Max x Pos: 0.496856153011322\n",
            "====================\n",
            "===== Episode 1200 =====\n",
            "Time:  690.5662689208984\n",
            "Steps:  139\n",
            "Global Steps:  219474\n",
            "Epsilon:  0.01\n",
            "Reward:  41.0\n",
            "Max x Pos: 0.47890058159828186\n",
            "====================\n",
            "===== Episode 1300 =====\n",
            "Time:  728.0982122421265\n",
            "Steps:  139\n",
            "Global Steps:  234962\n",
            "Epsilon:  0.01\n",
            "Reward:  21.0\n",
            "Max x Pos: 0.48215651512145996\n",
            "====================\n",
            "===== Episode 1400 =====\n",
            "Time:  768.0950729846954\n",
            "Steps:  142\n",
            "Global Steps:  251074\n",
            "Epsilon:  0.01\n",
            "Reward:  -22.0\n",
            "Max x Pos: 0.49664977192878723\n",
            "====================\n"
          ],
          "name": "stdout"
        }
      ]
    },
    {
      "cell_type": "markdown",
      "metadata": {
        "id": "z9fr9rn6En5l"
      },
      "source": [
        "## Training Results\n",
        "\n",
        "One intuitive way to study how the DQN model learns during training is to plot the rewards received over episodes. The following figure shows the results of an attempt to train the DQN model above. Although there are signs showing the DQN model has learnt something (e.g., less frequent negative cumulative rewards near the end of training), they are hard to observe as the results are not stable and fluctuate in a large range.\n",
        "\n",
        "<center><img src='./figures/rewards.png' width='50%'/></center>\n",
        "<center>\n",
        "Rewards recorded from a trial of training DQN for \"Mountain Car\" problem during preparation of this notebook. \n",
        "<center>\n"
      ]
    },
    {
      "cell_type": "code",
      "metadata": {
        "id": "OYa0oLJt3ptS",
        "colab": {
          "base_uri": "https://localhost:8080/",
          "height": 294
        },
        "outputId": "caee0058-ff49-41bc-d909-4123e32fcd33"
      },
      "source": [
        "\"\"\" Display Training Results \"\"\"\n",
        "################################################\n",
        "# The following codes may help you to evaluate # \n",
        "# the training results of your DQN model       #\n",
        "################################################\n",
        "\n",
        "# Plot rewards over episodes\n",
        "plt.plot(all_rewards) \n",
        "plt.title(\"Rewards\")\n",
        "plt.xlabel(\"Episode\")\n",
        "plt.ylabel(\"Reward\")\n",
        "plt.grid()\n",
        "plt.show()"
      ],
      "execution_count": 21,
      "outputs": [
        {
          "output_type": "display_data",
          "data": {
            "image/png": "[encoded data removed]",
            "text/plain": [
              "<Figure size 432x288 with 1 Axes>"
            ]
          },
          "metadata": {
            "tags": []
          }
        }
      ]
    },
    {
      "cell_type": "markdown",
      "metadata": {
        "id": "pHikkxI5Jrz6"
      },
      "source": [
        "This is not uncommon while training and evaluating RL models (especially RL models using neural networks, like DQL). There are many reasons causing such fluctuation of performance, such as different initial game states and insufficient learning of the model (try to think about other reasons!). Therefore, to obtain more comprehensible results, one often consider taking the moving average of the evaluation metrics, like rewards this time. The following figure shows an example of computing the moving average of rewards with a window size of 30 episodes. The trend of model performance that is shown by a less fluctuating line is more interpretable this time. \n",
        "\n",
        "<center><img src='./figures/rewards_ma.png' width='50%'/>\n",
        "<center>\n",
        "The moving average of rewards provides a more interpretable plot.\n",
        "</center>\n",
        "\n"
      ]
    },
    {
      "cell_type": "code",
      "metadata": {
        "id": "-HwtQzebBZAJ",
        "colab": {
          "base_uri": "https://localhost:8080/",
          "height": 294
        },
        "outputId": "0d0ae0fa-a6b8-4ced-8895-746bfd81f430"
      },
      "source": [
        "\"\"\" Visualize Training Resutls with Moving Average of Rewards \"\"\"\n",
        "################################################\n",
        "# The following codes may help you to evaluate # \n",
        "# the training results of your DQN model       #\n",
        "################################################\n",
        "\n",
        "import pandas as pd\n",
        "# To compute moving average of rewards with a window of 30 episodes\n",
        "window = 30\n",
        "rewards_df = pd.DataFrame({'reward': all_rewards})\n",
        "rewards_ma = rewards_df.rolling(window=window).mean().values\n",
        "\n",
        "# Display results\n",
        "plt.title(\"Moving Average of Rewards\")\n",
        "plt.plot(all_rewards, color='blue', alpha=0.5, label=\"rewards\")\n",
        "plt.plot(rewards_ma, color='orange', label=\"rewards MA\")\n",
        "plt.xlabel(\"Episode\")\n",
        "plt.ylabel(\"Reward\")\n",
        "plt.grid()\n",
        "plt.legend()\n",
        "plt.show()"
      ],
      "execution_count": 22,
      "outputs": [
        {
          "output_type": "display_data",
          "data": {
            "image/png": "[encoded data removed]",
            "text/plain": [
              "<Figure size 432x288 with 1 Axes>"
            ]
          },
          "metadata": {
            "tags": []
          }
        }
      ]
    },
    {
      "cell_type": "markdown",
      "metadata": {
        "id": "4rkeM8mcEfqx"
      },
      "source": [
        "Another intuitive way is to simulate an episode of game play and let the DQN model play with it. Since visualization of game screen is easy, we can directly observe how the model behaves. The procedure of simulating game play is essentially the same as the training procedure, except that the DQN network weights are frozen and you may display the game screen on the fly. Therefore, the implementation will not be provided here, and this is left for your future practice.\n",
        "\n",
        "----- "
      ]
    },
    {
      "cell_type": "markdown",
      "metadata": {
        "id": "UAKKmJJbJ5sf"
      },
      "source": [
        "<a id=’s5’></a>\n",
        "# 5 Submission\n",
        "\n",
        "As instructed in section 4, your task in this checkpoint is to complete the missing codes. There are 3 sections of missing codes (under Q1-3). While completing the missing codes, there are some criteria to be fulfilled in each of the 3 sections. Therefore, to complete this checkpoint, you will need to submit this notebook, with:\n",
        "1. all missing codes completed (under Q1-3), and\n",
        "2. code execution results showing the completed codes fulfil their criteria. \n",
        "\n",
        "Please feel free to add code/text cells if you need, but please make notes about the modification/addition made.\n",
        "\n",
        "----- \n"
      ]
    }
  ]
}